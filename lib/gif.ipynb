{
 "cells": [
  {
   "cell_type": "markdown",
   "metadata": {},
   "source": [
    "Numpy is the core library for scientific computing in Python. It provides a high-performance multidimensional array object, and tools for working with these arrays.\n",
    "\n",
    "Matplotlib is a Python 2D plotting library which produces publication quality figures in a variety of hardcopy formats and interactive environments across platforms. "
   ]
  },
  {
   "cell_type": "code",
   "execution_count": 5,
   "metadata": {},
   "outputs": [],
   "source": [
    "import numpy as np\n",
    "import matplotlib.pyplot as plt\n",
    "import matplotlib.animation as animation"
   ]
  },
  {
   "cell_type": "code",
   "execution_count": null,
   "metadata": {},
   "outputs": [],
   "source": [
    "Take an array or list of images and create a GIF"
   ]
  },
  {
   "cell_type": "code",
   "execution_count": 6,
   "metadata": {},
   "outputs": [],
   "source": [
    "def build_gif(imgs, interval=0.1, dpi=72,\n",
    "              save_gif=True, saveto='animation.gif',\n",
    "              show_gif=False, cmap=None):\n",
    "    \"\"\"Summary\n",
    "    \n",
    "    Parameters\n",
    "    ----------\n",
    "    imgs : np.ndarray or list\n",
    "        List of images to create a GIF of\n",
    "    interval : float, optional\n",
    "        Spacing in seconds between successive images.\n",
    "    dpi : int, optional\n",
    "        Dots per inch.\n",
    "    save_gif : bool, optional\n",
    "        Whether or not to save the GIF.\n",
    "    saveto : str, optional\n",
    "        Filename of GIF to save.\n",
    "    show_gif : bool, optional\n",
    "        Whether or not to render the GIF using plt.\n",
    "    cmap : None, optional\n",
    "        Optional colormap to apply to the images.\n",
    "    Returns\n",
    "    -------\n",
    "    ani : matplotlib.animation.ArtistAnimation\n",
    "        The artist animation from matplotlib.  Likely not useful.\n",
    "    \"\"\"\n",
    "    imgs = np.asarray(imgs)\n",
    "    h, w, *c = imgs[0].shape\n",
    "    fig, ax = plt.subplots(figsize=(np.round(w / dpi), np.round(h / dpi)))\n",
    "    fig.subplots_adjust(bottom=0)\n",
    "    fig.subplots_adjust(top=1)\n",
    "    fig.subplots_adjust(right=1)\n",
    "    fig.subplots_adjust(left=0)\n",
    "    ax.set_axis_off()\n",
    "\n",
    "    if cmap is not None:\n",
    "        axs = list(map(lambda x: [\n",
    "            ax.imshow(x, cmap=cmap)], imgs))\n",
    "    else:\n",
    "        axs = list(map(lambda x: [\n",
    "            ax.imshow(x)], imgs))\n",
    "\n",
    "    ani = animation.ArtistAnimation(\n",
    "        fig, axs, interval=interval*1000, repeat_delay=0, blit=False)\n",
    "\n",
    "    if save_gif:\n",
    "        ani.save(saveto, writer='imagemagick', dpi=dpi)\n",
    "\n",
    "    if show_gif:\n",
    "        plt.show()\n",
    "\n",
    "    return ani"
   ]
  },
  {
   "cell_type": "markdown",
   "metadata": {},
   "source": [
    "### References\n",
    "[1] matplotlib https://matplotlib.org/\n",
    "\n",
    "2] Python Numpy Tutorial http://cs231n.github.io/python-numpy-tutorial/"
   ]
  }
 ],
 "metadata": {
  "kernelspec": {
   "display_name": "Python 3",
   "language": "python",
   "name": "python3"
  },
  "language_info": {
   "codemirror_mode": {
    "name": "ipython",
    "version": 3
   },
   "file_extension": ".py",
   "mimetype": "text/x-python",
   "name": "python",
   "nbconvert_exporter": "python",
   "pygments_lexer": "ipython3",
   "version": "3.6.6"
  }
 },
 "nbformat": 4,
 "nbformat_minor": 2
}
