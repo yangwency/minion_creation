{
 "cells": [
  {
   "cell_type": "markdown",
   "metadata": {},
   "source": [
    "## Batch Normalization"
   ]
  },
  {
   "cell_type": "markdown",
   "metadata": {},
   "source": [
    "Batch normalization is a technique for improving the performance and stability of [artificial neural networks](https://en.wikipedia.org/wiki/Artificial_neural_network). It is a technique to provide any layer in a neural network with inputs that are zero mean/unit variance.["
   ]
  },
  {
   "cell_type": "markdown",
   "metadata": {},
   "source": [
    "TensorFlow is a Python library for fast numerical computing created and released by Google.\n",
    "\n",
    "It is a foundation library that can be used to create Deep Learning models directly or by using wrapper libraries that simplify the process built on top of TensorFlow."
   ]
  },
  {
   "cell_type": "code",
   "execution_count": 1,
   "metadata": {},
   "outputs": [],
   "source": [
    "import tensorflow as tf\n",
    "from tensorflow.python.ops import control_flow_ops"
   ]
  },
  {
   "cell_type": "code",
   "execution_count": 2,
   "metadata": {},
   "outputs": [],
   "source": [
    "def batch_norm(x, phase_train, name='bn', decay=0.99, reuse=None, affine=True):\n",
    "    \"\"\"\n",
    "    Summary\n",
    "    ------\n",
    "    x\n",
    "        Tensor, 4D BHWD input maps\n",
    "    phase_train\n",
    "        boolean tf.Variable, true indicates training phase\n",
    "    name\n",
    "        string, variable name\n",
    "    affine\n",
    "        whether to affine-transform outputs\n",
    "    Return\n",
    "    ------\n",
    "    normed\n",
    "        batch-normalized maps\n",
    "    \"\"\"\n",
    "    with tf.variable_scope(name, reuse=reuse):\n",
    "        og_shape = x.get_shape().as_list()\n",
    "        if len(og_shape) == 2:\n",
    "            x = tf.reshape(x, [-1, 1, 1, og_shape[1]])\n",
    "        shape = x.get_shape().as_list()\n",
    "        beta = tf.get_variable(name='beta', shape=[shape[-1]],\n",
    "                               initializer=tf.constant_initializer(0.0),\n",
    "                               trainable=True)\n",
    "        gamma = tf.get_variable(name='gamma', shape=[shape[-1]],\n",
    "                                initializer=tf.constant_initializer(1.0),\n",
    "                                trainable=affine)\n",
    "\n",
    "        batch_mean, batch_var = tf.nn.moments(x, [0, 1, 2], name='moments')\n",
    "        ema = tf.train.ExponentialMovingAverage(decay=decay)\n",
    "        ema_apply_op = ema.apply([batch_mean, batch_var])\n",
    "        ema_mean, ema_var = ema.average(batch_mean), ema.average(batch_var)\n",
    "\n",
    "        def mean_var_with_update():\n",
    "            \"\"\"Summary\n",
    "            Returns\n",
    "            -------\n",
    "            name : TYPE\n",
    "                Description\n",
    "            \"\"\"\n",
    "            with tf.control_dependencies([ema_apply_op]):\n",
    "                return tf.identity(batch_mean), tf.identity(batch_var)\n",
    "        mean, var = control_flow_ops.cond(phase_train,\n",
    "                                          mean_var_with_update,\n",
    "                                          lambda: (ema_mean, ema_var))\n",
    "\n",
    "         ''' \n",
    "         tf.nn.batch_normalization\n",
    "         '''\n",
    "           \n",
    "        normed = tf.nn.batch_norm_with_global_normalization(\n",
    "            x, mean, var, beta, gamma, 1e-5, affine)\n",
    "        if len(og_shape) == 2:\n",
    "            normed = tf.reshape(normed, [-1, og_shape[-1]])\n",
    "    return normed"
   ]
  },
  {
   "cell_type": "markdown",
   "metadata": {},
   "source": [
    "### References\n",
    "[1] Batch normalization https://en.wikipedia.org/wiki/Batch_normalization"
   ]
  }
 ],
 "metadata": {
  "kernelspec": {
   "display_name": "Python 3",
   "language": "python",
   "name": "python3"
  },
  "language_info": {
   "codemirror_mode": {
    "name": "ipython",
    "version": 3
   },
   "file_extension": ".py",
   "mimetype": "text/x-python",
   "name": "python",
   "nbconvert_exporter": "python",
   "pygments_lexer": "ipython3",
   "version": "3.6.6"
  }
 },
 "nbformat": 4,
 "nbformat_minor": 2
}
