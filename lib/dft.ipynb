{
 "cells": [
  {
   "cell_type": "markdown",
   "metadata": {},
   "source": [
    "## Discrete Fourier transform"
   ]
  },
  {
   "cell_type": "markdown",
   "metadata": {},
   "source": [
    "The Fourier Transform is an important image processing tool which is used to decompose an image into its sine and cosine components. The output of the transformation represents the image in the Fourier or [frequency domain](https://homepages.inf.ed.ac.uk/rbf/HIPR2/freqdom.htm), while the input image is the [spatial domain](https://homepages.inf.ed.ac.uk/rbf/HIPR2/spatdom.htm) equivalent. In the Fourier domain image, each point represents a particular frequency contained in the spatial domain image."
   ]
  },
  {
   "cell_type": "markdown",
   "metadata": {},
   "source": [
    "The DFT is the sampled Fourier Transform and therefore does not contain all frequencies forming an image, but only a set of samples which is large enough to fully describe the spatial domain image. The number of frequencies corresponds to the number of pixels in the spatial domain image, i.e. the image in the spatial and Fourier domain are of the same size."
   ]
  },
  {
   "cell_type": "markdown",
   "metadata": {},
   "source": [
    "Numpy is the core library for scientific computing in Python. It provides a high-performance multidimensional array object, and tools for working with these arrays."
   ]
  },
  {
   "cell_type": "code",
   "execution_count": 8,
   "metadata": {},
   "outputs": [],
   "source": [
    "import numpy as np\n",
    "'''\n",
    "Return a Hann window.\n",
    "The Hann window is a taper formed by using a raised cosine or sine-squared with ends that touch zero.\n",
    "'''\n",
    "from scipy.signal import hann"
   ]
  },
  {
   "cell_type": "markdown",
   "metadata": {},
   "source": [
    "Define ztoc to with the use of np.sqrt function, which Return the non-negative square-root of an array, element-wise. And with the use of np.angle, which return the angle of the complex argument."
   ]
  },
  {
   "cell_type": "code",
   "execution_count": 9,
   "metadata": {},
   "outputs": [],
   "source": [
    "    \"\"\"Summary\n",
    "\n",
    "    Parameters\n",
    "    ----------\n",
    "    re : TYPE\n",
    "        Description\n",
    "    im : TYPE\n",
    "        Description\n",
    "\n",
    "    Returns\n",
    "    -------\n",
    "    TYPE\n",
    "        Description\n",
    "    \"\"\"\n",
    "def ztoc(re, im):\n",
    "    return np.sqrt(re**2 + im**2), np.angle(re + im * 1j)"
   ]
  },
  {
   "cell_type": "markdown",
   "metadata": {},
   "source": [
    "Define ctoz with the use of np.cos, which Cosine element-wise. And with the use of np.sin, which trigonometric sine, element-wise."
   ]
  },
  {
   "cell_type": "code",
   "execution_count": 10,
   "metadata": {},
   "outputs": [],
   "source": [
    " \"\"\"Summary\n",
    "\n",
    "    Parameters\n",
    "    ----------\n",
    "    mag : TYPE\n",
    "        Description\n",
    "    phs : TYPE\n",
    "        Description\n",
    "\n",
    "    Returns\n",
    "    -------\n",
    "    TYPE\n",
    "        Description\n",
    "    \"\"\"\n",
    "def ctoz(mag, phs):\n",
    "    return mag * np.cos(phs), mag * np.sin(phs)"
   ]
  },
  {
   "cell_type": "code",
   "execution_count": 4,
   "metadata": {},
   "outputs": [],
   "source": [
    " \"\"\"Summary\n",
    " \n",
    "    Parameters\n",
    "    ----------\n",
    "    signal : TYPE\n",
    "        Description\n",
    "    hop_size : int, optional\n",
    "        Description\n",
    "    fft_size : int, optional\n",
    "        Description\n",
    "\n",
    "    Returns\n",
    "    -------\n",
    "    TYPE\n",
    "        Description\n",
    "    \"\"\"\n",
    "def dft_np(signal, hop_size=256, fft_size=512):\n",
    "    n_hops = len(signal) // hop_size\n",
    "    s = []\n",
    "    hann_win = hann(fft_size)\n",
    "    for hop_i in range(n_hops):\n",
    "        frame = signal[(hop_i * hop_size):(hop_i * hop_size + fft_size)]\n",
    "        frame = np.pad(frame, (0, fft_size - len(frame)), 'constant')\n",
    "        frame *= hann_win\n",
    "        s.append(frame)\n",
    "    s = np.array(s)\n",
    "    N = s.shape[-1]\n",
    "    k = np.reshape(np.linspace(0.0, 2 * np.pi / N * (N // 2), N // 2), [1, N // 2])\n",
    "    x = np.reshape(np.linspace(0.0, N - 1, N), [N, 1])\n",
    "    freqs = np.dot(x, k)\n",
    "    reals = np.dot(s, np.cos(freqs)) * (2.0 / N)\n",
    "    imags = np.dot(s, np.sin(freqs)) * (2.0 / N)\n",
    "    return reals, imags\n"
   ]
  },
  {
   "cell_type": "code",
   "execution_count": 11,
   "metadata": {},
   "outputs": [],
   "source": [
    " \"\"\"Summary\n",
    "\n",
    "    Parameters\n",
    "    ----------\n",
    "    re : TYPE\n",
    "        Description\n",
    "    im : TYPE\n",
    "        Description\n",
    "    hop_size : int, optional\n",
    "        Description\n",
    "    fft_size : int, optional\n",
    "        Description\n",
    "\n",
    "    Returns\n",
    "    -------\n",
    "    TYPE\n",
    "        Description\n",
    "    \"\"\"\n",
    "def idft_np(re, im, hop_size=256, fft_size=512):\n",
    "    N = re.shape[1] * 2\n",
    "    k = np.reshape(np.linspace(0.0, 2 * np.pi / N * (N // 2), N // 2), [N // 2, 1])\n",
    "    x = np.reshape(np.linspace(0.0, N - 1, N), [1, N])\n",
    "    freqs = np.dot(k, x)\n",
    "    signal = np.zeros((re.shape[0] * hop_size + fft_size,))\n",
    "    recon = np.dot(re, np.cos(freqs)) + np.dot(im, np.sin(freqs))\n",
    "    for hop_i, frame in enumerate(recon):\n",
    "        signal[(hop_i * hop_size): (hop_i * hop_size + fft_size)] += frame\n",
    "    return signal"
   ]
  },
  {
   "cell_type": "markdown",
   "metadata": {},
   "source": [
    "### References\n",
    "[1] How to implement the discrete Fourier transform https://www.nayuki.io/page/how-to-implement-the-discrete-fourier-transform\n",
    "\n",
    "[2] Python Numpy Tutorial http://cs231n.github.io/python-numpy-tutorial/\n",
    "\n",
    "[3] https://cadl.readthedocs.io/en/latest/_modules/cadl/dft.html"
   ]
  }
 ],
 "metadata": {
  "kernelspec": {
   "display_name": "Python 3",
   "language": "python",
   "name": "python3"
  },
  "language_info": {
   "codemirror_mode": {
    "name": "ipython",
    "version": 3
   },
   "file_extension": ".py",
   "mimetype": "text/x-python",
   "name": "python",
   "nbconvert_exporter": "python",
   "pygments_lexer": "ipython3",
   "version": "3.6.6"
  }
 },
 "nbformat": 4,
 "nbformat_minor": 2
}
